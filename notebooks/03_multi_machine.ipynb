{
 "cells": [
  {
   "attachments": {},
   "cell_type": "markdown",
   "metadata": {},
   "source": [
    "# Running graphs on multiple machines"
   ]
  },
  {
   "attachments": {},
   "cell_type": "markdown",
   "metadata": {},
   "source": [
    "Oftentimes, we want to distribute graph execution across several machines on a cart. For example, we may want to run our graphics on a machine with a GPU and run our signal processing on a separate machine with a fully-preemptible kernel.\n",
    "\n",
    "In this example, we will run the same closed-loop control graph we ran previously, but we will now distribute execution of these nodes across three machines:   \n",
    "- The **brand** machine will host the Redis database and run binning and the FSM\n",
    "- The **gpc** machine will run our graphics and decoding.\n",
    "- The **sim** machine will run our simulator.\n",
    "\n",
    "To begin, we need to set up this `brand-tutorial` repo on each machine following the steps in [00_setup.md](./00_setup.md).\n",
    "\n",
    "Once setup is complete, we can start `supervisor` and `booter` on each machine with the following commands:\n",
    "1. On the **brand** machine:\n",
    "```\n",
    "supervisor -m brand -i 192.168.30.6 -p 6380 -r 99\n",
    "```\n",
    "2. On the **gpc** machine:\n",
    "```\n",
    "booter -m gpc -i 192.168.30.6 -p 6380\n",
    "```\n",
    "3. On the **sim** machine:\n",
    "```\n",
    "booter -m sim -i 192.168.30.6 -p 6380\n",
    "```\n",
    "\n",
    "Make sure to replace `192.168.30.6` with the BRAND machine's IP address. This is the address at which the Redis database will be hosted."
   ]
  },
  {
   "cell_type": "code",
   "execution_count": null,
   "metadata": {},
   "outputs": [],
   "source": [
    "# update these to match the parameters used for \n",
    "# supervisor and booter\n",
    "REDIS_IP = '192.168.30.6'\n",
    "REDIS_PORT = 6380"
   ]
  },
  {
   "attachments": {},
   "cell_type": "markdown",
   "metadata": {},
   "source": [
    "## 1. Run the block"
   ]
  },
  {
   "attachments": {},
   "cell_type": "markdown",
   "metadata": {},
   "source": [
    "Now we are ready to run the cursor control block. We will use multi-machine version of [sim_graph_cl.yaml](./graphs/sim_graph_cl.yaml), which is named [sim_graph_cl_mm.yaml](./graphs/sim_graph_cl_mm.yaml). In the multi-machine version, each node has a `machine` parameter that specifies which machine should run it."
   ]
  },
  {
   "cell_type": "code",
   "execution_count": null,
   "metadata": {},
   "outputs": [],
   "source": [
    "GRAPH = 'sim_graph_cl_mm_gen.yaml'"
   ]
  },
  {
   "attachments": {},
   "cell_type": "markdown",
   "metadata": {},
   "source": [
    "For this tutorial, we'll move a computer mouse to generate simulated neural data. For this to work, you'll need to update the `mouse_device` variable below so that it matches the path to your mouse on your system. \n",
    "\n",
    "To find the path to your mouse, check the `/dev/input/by-id/` directory for a list of device files. Usually, the file with the format \"usb-NAME-event-mouse\" will be your mouse. You can test this by moving your mouse around while listening for events with [`evtest`](https://manpages.ubuntu.com/manpages/trusty/man1/evtest.1.html):\n",
    "```\n",
    "sudo evtest /dev/input/by-id/usb-Logitech_Wireless_Receiver-event-mouse\n",
    "```"
   ]
  },
  {
   "cell_type": "code",
   "execution_count": null,
   "metadata": {},
   "outputs": [],
   "source": [
    "mouse_device = '/dev/input/by-id/usb-Razer_Razer_Viper_8KHz-event-mouse'"
   ]
  },
  {
   "attachments": {},
   "cell_type": "markdown",
   "metadata": {},
   "source": [
    "### Load the graph\n",
    "In BRAND, each graph is configured using a YAML file. This file contains the list of nodes that will run in the graph and the parameters of each node."
   ]
  },
  {
   "cell_type": "code",
   "execution_count": null,
   "metadata": {},
   "outputs": [],
   "source": [
    "import json\n",
    "import os\n",
    "import pickle\n",
    "import time\n",
    "from datetime import datetime\n",
    "\n",
    "import redis\n",
    "import yaml\n",
    "\n",
    "DURATION = None  # seconds\n",
    "test_dir = os.getcwd()\n",
    "\n",
    "with open(os.path.join(test_dir, 'graphs', GRAPH), 'r') as f:\n",
    "    graph = yaml.safe_load(f)"
   ]
  },
  {
   "attachments": {},
   "cell_type": "markdown",
   "metadata": {},
   "source": [
    "Now we'll edit the graph to use the mouse that we specified above"
   ]
  },
  {
   "cell_type": "code",
   "execution_count": null,
   "metadata": {},
   "outputs": [],
   "source": [
    "# Edit graph\n",
    "node_names = [node['name'] for node in graph['nodes']]\n",
    "ma_idx = node_names.index('mouseAdapter')\n",
    "graph['nodes'][ma_idx]['parameters']['mouse_device'] = mouse_device"
   ]
  },
  {
   "attachments": {},
   "cell_type": "markdown",
   "metadata": {},
   "source": [
    "### Run the graph\n",
    "In the next cell, we will send the graph parameters to BRAND's `supervisor` process, which will then run each node in the graph according to our configuration."
   ]
  },
  {
   "cell_type": "code",
   "execution_count": null,
   "metadata": {},
   "outputs": [],
   "source": [
    "\n",
    "r = redis.Redis(host=REDIS_IP, port=REDIS_PORT)\n",
    "\n",
    "curs, start_streams = r.scan(0, _type='stream')\n",
    "while curs != 0:\n",
    "    curs, streams = r.scan(curs, _type='stream')\n",
    "    start_streams += streams\n",
    "\n",
    "# get the most recent ID from each stream\n",
    "start_id = {}\n",
    "for stream in start_streams:\n",
    "    replies = r.xrevrange(stream, count=1)\n",
    "    if replies:\n",
    "        start_id[stream] = replies[0][0]\n",
    "\n",
    "print(f'Starting graph from {GRAPH}')\n",
    "r.xadd('supervisor_ipstream', {\n",
    "    'commands': 'startGraph',\n",
    "    'graph': json.dumps(graph)\n",
    "})\n",
    "\n",
    "if DURATION:\n",
    "    print(f'Waiting {DURATION} seconds')\n",
    "    time.sleep(DURATION)\n",
    "else:\n",
    "    input('Hit ENTER to stop graph...')\n",
    "\n",
    "# Stop the graph\n",
    "print('Stopping graph')\n",
    "r.xadd('supervisor_ipstream', {'commands': 'stopGraph'})\n",
    "\n",
    "curs, stop_streams = r.scan(0, _type='stream')\n",
    "while curs != 0:\n",
    "    curs, streams = r.scan(curs, _type='stream')\n",
    "    stop_streams += streams\n",
    "\n",
    "new_streams = [\n",
    "    stream for stream in stop_streams if stream not in start_streams\n",
    "]\n",
    "\n",
    "for stream in new_streams:\n",
    "    start_id[stream] = 0\n",
    "\n",
    "# Save streams\n",
    "all_data = {}\n",
    "for stream in stop_streams:\n",
    "    all_data[stream] = r.xrange(stream, min=start_id[stream])\n",
    "\n",
    "date_str = datetime.now().strftime(r'%y%m%dT%H%M')\n",
    "graph_name = os.path.splitext(os.path.basename(GRAPH))[0]\n",
    "data_dir = os.path.join(test_dir, 'data')\n",
    "os.makedirs(data_dir, exist_ok=True)\n",
    "save_path = os.path.join(data_dir, f'{date_str}_{graph_name}.pkl')\n",
    "with open(save_path, 'wb') as f:\n",
    "    pickle.dump(all_data, f)\n",
    "print(f'Saved streams: {sorted(list(all_data.keys()))}')\n",
    "\n",
    "# Remove saved data from Redis\n",
    "# delete any streams created while the graph was running\n",
    "i = 0\n",
    "if new_streams:\n",
    "    while max([r.xlen(stream) for stream in new_streams]):\n",
    "        for stream in new_streams:\n",
    "            r.delete(stream)\n",
    "        i += 1\n",
    "r.memory_purge()\n",
    "print(f'Deleted streams: {new_streams}')"
   ]
  },
  {
   "attachments": {},
   "cell_type": "markdown",
   "metadata": {},
   "source": [
    "## 2. Analyze the block\n",
    "Now that we have run the graph, we will now load the data into a Pandas dataframe. The low-level details of how this is done are not critical to understand now because you may use a different process depending on your data format of choice."
   ]
  },
  {
   "cell_type": "code",
   "execution_count": null,
   "metadata": {},
   "outputs": [],
   "source": []
  },
  {
   "cell_type": "code",
   "execution_count": null,
   "metadata": {},
   "outputs": [],
   "source": [
    "import json\n",
    "import os\n",
    "import pickle\n",
    "\n",
    "import matplotlib.pyplot as plt\n",
    "import numpy as np\n",
    "import pandas as pd\n",
    "import yaml\n",
    "from brand.timing import timespecs_to_timestamps, timevals_to_timestamps\n",
    "from scipy.signal import butter, sosfiltfilt\n",
    "from sklearn.linear_model import RidgeCV\n",
    "from sklearn.metrics import r2_score, make_scorer\n",
    "from sklearn.model_selection import train_test_split\n",
    "from tqdm.auto import tqdm"
   ]
  },
  {
   "cell_type": "code",
   "execution_count": null,
   "metadata": {},
   "outputs": [],
   "source": [
    "# constants\n",
    "test_dir = os.getcwd()\n",
    "data_dir = os.path.join(test_dir, 'data')\n",
    "fig_dir = os.path.join(test_dir, 'figures')\n",
    "data_file = save_path\n",
    "\n",
    "# setup\n",
    "os.makedirs(fig_dir, exist_ok=True)"
   ]
  },
  {
   "cell_type": "code",
   "execution_count": null,
   "metadata": {},
   "outputs": [],
   "source": [
    "with open(os.path.join(data_dir, data_file), 'rb') as f:\n",
    "    graph_data = pickle.load(f)"
   ]
  },
  {
   "cell_type": "code",
   "execution_count": null,
   "metadata": {},
   "outputs": [],
   "source": [
    "# Load graph parameters\n",
    "graphs = [\n",
    "    json.loads(entry[b'graph']) for _, entry in graph_data[b'booter']\n",
    "    if b'graph' in entry\n",
    "]\n",
    "graph = graphs[-1]"
   ]
  },
  {
   "cell_type": "code",
   "execution_count": null,
   "metadata": {},
   "outputs": [],
   "source": [
    "# Load info about the structure of each stream\n",
    "with open('stream_spec_cl.yaml', 'r') as f:\n",
    "    stream_spec = yaml.safe_load(f)"
   ]
  },
  {
   "cell_type": "code",
   "execution_count": null,
   "metadata": {},
   "outputs": [],
   "source": [
    "# Load and parse stream data\n",
    "streams = [\n",
    "    b'targetData', b'cursorData', b'mouse_vel', b'binned_spikes',\n",
    "    b'wiener_filter'\n",
    "]\n",
    "decoded_streams = {}\n",
    "for stream in streams:\n",
    "    print(f'Processing {stream.decode()} stream')\n",
    "    stream_data = graph_data[stream]\n",
    "    out = [None] * len(stream_data)\n",
    "    spec = stream_spec[stream.decode()]\n",
    "    for i, (entry_id, entry_data) in tqdm(enumerate(stream_data)):\n",
    "        entry_dec = {}\n",
    "        for key, val in entry_data.items():\n",
    "            if key.decode() in spec:\n",
    "                dtype = spec[key.decode()]\n",
    "                if dtype == 'str':\n",
    "                    entry_dec[key.decode()] = val.decode()\n",
    "                elif dtype == 'sync':\n",
    "                    entry_dec[key.decode()] = json.loads(val)['count']\n",
    "                elif dtype == 'timeval':\n",
    "                    entry_dec[key.decode()] = timevals_to_timestamps(val)\n",
    "                elif dtype == 'timespec':\n",
    "                    entry_dec[key.decode()] = timespecs_to_timestamps(val)\n",
    "                else:\n",
    "                    dat = np.frombuffer(val, dtype=dtype)\n",
    "                    entry_dec[key.decode()] = dat[0] if dat.size == 1 else dat\n",
    "        out[i] = entry_dec\n",
    "    decoded_streams[stream.decode()] = out"
   ]
  },
  {
   "cell_type": "code",
   "execution_count": null,
   "metadata": {},
   "outputs": [],
   "source": [
    "# Load data at the binned spikes sample rate\n",
    "# FSM\n",
    "cd_df = pd.DataFrame(decoded_streams['cursorData'])\n",
    "cd_df.set_index('sync', drop=False, inplace=True)\n",
    "cd_df.columns = [col + '_cd' for col in cd_df.columns]\n",
    "\n",
    "td_df = pd.DataFrame(decoded_streams['targetData'])\n",
    "td_df.set_index('sync', drop=False, inplace=True)\n",
    "td_df['angle'] = np.degrees(np.arctan2(td_df['Y'], td_df['X']))\n",
    "td_df.columns = [col + '_td' for col in td_df.columns]\n",
    "\n",
    "# decoding\n",
    "wf_df = pd.DataFrame(decoded_streams['wiener_filter'])\n",
    "wf_df.set_index('sync', drop=False, inplace=True)\n",
    "wf_df.columns = [col + '_wf' for col in wf_df.columns]\n",
    "\n",
    "# binning\n",
    "bs_df = pd.DataFrame(decoded_streams['binned_spikes'])\n",
    "bs_df.set_index('sync', drop=False, inplace=True)\n",
    "bs_df.columns = [col + '_bs' for col in bs_df.columns]\n",
    "\n",
    "# join the dataframes\n",
    "bin_df = cd_df.join(td_df).join(wf_df).join(bs_df)"
   ]
  },
  {
   "attachments": {},
   "cell_type": "markdown",
   "metadata": {},
   "source": [
    "### Plot cursor kinematics"
   ]
  },
  {
   "cell_type": "code",
   "execution_count": null,
   "metadata": {},
   "outputs": [],
   "source": [
    "# plot kinematics\n",
    "plt.plot(bin_df['X_cd'], bin_df['Y_cd'])\n",
    "plt.axis('equal')\n",
    "plt.ylabel('Y position')\n",
    "plt.xlabel('X position')\n",
    "plt.show()"
   ]
  }
 ],
 "metadata": {
  "kernelspec": {
   "display_name": "rt",
   "language": "python",
   "name": "python3"
  },
  "language_info": {
   "codemirror_mode": {
    "name": "ipython",
    "version": 3
   },
   "file_extension": ".py",
   "mimetype": "text/x-python",
   "name": "python",
   "nbconvert_exporter": "python",
   "pygments_lexer": "ipython3",
   "version": "3.8.2"
  },
  "orig_nbformat": 4,
  "vscode": {
   "interpreter": {
    "hash": "acea4441a5f698603dacd29996facca076bfacb138c4948e4d0cd69fcc42afa0"
   }
  }
 },
 "nbformat": 4,
 "nbformat_minor": 2
}
