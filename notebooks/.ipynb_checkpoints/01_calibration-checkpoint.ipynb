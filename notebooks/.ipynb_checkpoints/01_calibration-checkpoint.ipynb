{
 "cells": [
  {
   "cell_type": "markdown",
   "metadata": {},
   "source": [
    "# Open-Loop Decoder Calibration\n",
    "Authors: Yahia Ali, Mattia Rigotti-Thompson"
   ]
  },
  {
   "cell_type": "markdown",
   "metadata": {},
   "source": [
    "## 1. Run the block"
   ]
  },
  {
   "cell_type": "markdown",
   "metadata": {},
   "source": [
    "For this tutorial, we'll move a computer mouse to generate simulated neural data. For this to work, you'll need to update the `mouse_device` variable below so that it matches the path to your mouse on your system. \n",
    "\n",
    "To find the path to your mouse, check the `/dev/input/by-id/` directory for a list of device files. Usually, the file with the format \"usb-NAME-event-mouse\" will be your mouse. You can test this by moving your mouse around while listening for events with [`evtest`](https://manpages.ubuntu.com/manpages/trusty/man1/evtest.1.html):\n",
    "```\n",
    "sudo evtest /dev/input/by-id/usb-Logitech_Wireless_Receiver-event-mouse\n",
    "```"
   ]
  },
  {
   "cell_type": "code",
   "execution_count": 1,
   "metadata": {},
   "outputs": [],
   "source": [
    "# Specify the path to your mouse\n",
    "mouse_device = '/dev/input/by-id/usb-0461_USB_Optical_Mouse-event-mouse'"
   ]
  },
  {
   "cell_type": "markdown",
   "metadata": {},
   "source": [
    "### Load the graph\n",
    "In BRAND, each graph is configured using a YAML file. This file contains the list of nodes that will run in the graph and the parameters of each node."
   ]
  },
  {
   "cell_type": "code",
   "execution_count": 3,
   "metadata": {},
   "outputs": [],
   "source": [
    "# Load the graph\n",
    "import json\n",
    "import os\n",
    "import pickle\n",
    "import time\n",
    "from datetime import datetime\n",
    "\n",
    "import redis\n",
    "import yaml\n",
    "\n",
    "DURATION = None  # seconds\n",
    "GRAPH = 'sim_graph_ol.yaml'\n",
    "REDIS_IP = '127.0.0.1'\n",
    "REDIS_PORT = 6379\n",
    "test_dir = os.getcwd()\n",
    "\n",
    "with open(os.path.join(test_dir, 'graphs', GRAPH), 'r') as f:\n",
    "    graph = yaml.safe_load(f)"
   ]
  },
  {
   "cell_type": "markdown",
   "metadata": {},
   "source": [
    "Now we'll edit the graph to use the mouse that we specified above"
   ]
  },
  {
   "cell_type": "code",
   "execution_count": 3,
   "metadata": {},
   "outputs": [],
   "source": [
    "# Edit graph\n",
    "node_names = [node['name'] for node in graph['nodes']]\n",
    "ma_idx = node_names.index('mouseAdapter')\n",
    "graph['nodes'][ma_idx]['parameters']['mouse_device'] = mouse_device"
   ]
  },
  {
   "cell_type": "markdown",
   "metadata": {},
   "source": [
    "### Run the graph\n",
    "In the next cell, we will send the graph parameters to BRAND's `supervisor` process, which will then run each node in the graph according to our configuration."
   ]
  },
  {
   "cell_type": "code",
   "execution_count": 4,
   "metadata": {},
   "outputs": [
    {
     "name": "stdout",
     "output_type": "stream",
     "text": [
      "Starting graph from sim_graph_ol.yaml\n",
      "Hit ENTER to stop graph...\n",
      "Stopping graph\n",
      "Saved streams: [b'auto_cue_state', b'bin_multiple_state', b'binned_spikes', b'booter', b'control', b'cursorData', b'display_centerOut_state', b'display_sync_pulse', b'firing_rates', b'graph_status', b'mouse_vel', b'radial_fsm_state', b'sim2D_state', b'state', b'supergraph_stream', b'supervisor_ipstream', b'supervisor_status', b'targetData', b'threshold_values', b'thresholds_udp_state', b'trial_info', b'trial_success']\n",
      "Deleted streams: [b'display_centerOut_state', b'control', b'mouse_vel', b'supervisor_ipstream', b'supergraph_stream', b'cursorData', b'threshold_values', b'trial_info', b'bin_multiple_state', b'firing_rates', b'auto_cue_state', b'sim2D_state', b'radial_fsm_state', b'binned_spikes', b'state', b'booter', b'targetData', b'trial_success', b'display_sync_pulse', b'thresholds_udp_state']\n"
     ]
    }
   ],
   "source": [
    "\n",
    "r = redis.Redis(host=REDIS_IP, port=REDIS_PORT)\n",
    "\n",
    "curs, start_streams = r.scan(0, _type='stream')\n",
    "while curs != 0:\n",
    "    curs, streams = r.scan(curs, _type='stream')\n",
    "    start_streams += streams\n",
    "\n",
    "# get the most recent ID from each stream\n",
    "start_id = {}\n",
    "for stream in start_streams:\n",
    "    replies = r.xrevrange(stream, count=1)\n",
    "    if replies:\n",
    "        start_id[stream] = replies[0][0]\n",
    "\n",
    "print(f'Starting graph from {GRAPH}')\n",
    "r.xadd('supervisor_ipstream', {\n",
    "    'commands': 'startGraph',\n",
    "    'graph': json.dumps(graph)\n",
    "})\n",
    "\n",
    "if DURATION:\n",
    "    print(f'Waiting {DURATION} seconds')\n",
    "    time.sleep(DURATION)\n",
    "else:\n",
    "    input('Hit ENTER to stop graph...')\n",
    "\n",
    "# Stop the graph\n",
    "print('Stopping graph')\n",
    "r.xadd('supervisor_ipstream', {'commands': 'stopGraph'})\n",
    "\n",
    "curs, stop_streams = r.scan(0, _type='stream')\n",
    "while curs != 0:\n",
    "    curs, streams = r.scan(curs, _type='stream')\n",
    "    stop_streams += streams\n",
    "\n",
    "new_streams = [\n",
    "    stream for stream in stop_streams if stream not in start_streams\n",
    "]\n",
    "\n",
    "for stream in new_streams:\n",
    "    start_id[stream] = 0\n",
    "\n",
    "# Save streams\n",
    "all_data = {}\n",
    "for stream in stop_streams:\n",
    "    all_data[stream] = r.xrange(stream, min=start_id[stream])\n",
    "\n",
    "date_str = datetime.now().strftime(r'%y%m%dT%H%M')\n",
    "graph_name = os.path.splitext(os.path.basename(GRAPH))[0]\n",
    "data_dir = os.path.join(test_dir, 'data')\n",
    "os.makedirs(data_dir, exist_ok=True)\n",
    "save_path = os.path.join(data_dir, f'{date_str}_{graph_name}.pkl')\n",
    "with open(save_path, 'wb') as f:\n",
    "    pickle.dump(all_data, f)\n",
    "print(f'Saved streams: {sorted(list(all_data.keys()))}')\n",
    "\n",
    "# Remove saved data from Redis\n",
    "# delete any streams created while the graph was running\n",
    "i = 0\n",
    "if new_streams:\n",
    "    while max([r.xlen(stream) for stream in new_streams]):\n",
    "        for stream in new_streams:\n",
    "            r.delete(stream)\n",
    "        i += 1\n",
    "r.memory_purge()\n",
    "print(f'Deleted streams: {new_streams}')"
   ]
  },
  {
   "cell_type": "markdown",
   "metadata": {},
   "source": [
    "## 2. Analyze the block\n",
    "Now that we have run the graph, we will now load the data into a Pandas dataframe. The low-level details of how this is done are not critical to understand now because you may use a different process depending on your data format of choice."
   ]
  },
  {
   "cell_type": "code",
   "execution_count": 3,
   "metadata": {},
   "outputs": [],
   "source": [
    "import json\n",
    "import os\n",
    "import pickle\n",
    "\n",
    "import matplotlib.pyplot as plt\n",
    "import numpy as np\n",
    "import pandas as pd\n",
    "import yaml\n",
    "from brand.timing import timespecs_to_timestamps, timevals_to_timestamps\n",
    "from scipy.signal import butter, sosfiltfilt\n",
    "from sklearn.linear_model import RidgeCV\n",
    "from sklearn.metrics import r2_score, make_scorer\n",
    "from sklearn.model_selection import train_test_split\n",
    "from tqdm.auto import tqdm"
   ]
  },
  {
   "cell_type": "code",
   "execution_count": 4,
   "metadata": {},
   "outputs": [],
   "source": [
    "# constants\n",
    "test_dir = os.getcwd()\n",
    "data_dir = os.path.join(test_dir, 'data')\n",
    "fig_dir = os.path.join(test_dir, 'figures')\n",
    "data_file = '/home/ben/Projects/brand-tutorial/notebooks/data/230927T1624_sim_graph_ol.pkl'#save_path\n",
    "\n",
    "# setup\n",
    "os.makedirs(fig_dir, exist_ok=True)"
   ]
  },
  {
   "cell_type": "code",
   "execution_count": 5,
   "metadata": {},
   "outputs": [],
   "source": [
    "with open(os.path.join(data_dir, data_file), 'rb') as f:\n",
    "    graph_data = pickle.load(f)"
   ]
  },
  {
   "cell_type": "code",
   "execution_count": 6,
   "metadata": {},
   "outputs": [],
   "source": [
    "# Load graph parameters\n",
    "graphs = [\n",
    "    json.loads(entry[b'graph']) for _, entry in graph_data[b'booter']\n",
    "    if b'graph' in entry\n",
    "]\n",
    "graph = graphs[-1]"
   ]
  },
  {
   "cell_type": "code",
   "execution_count": 7,
   "metadata": {},
   "outputs": [],
   "source": [
    "# Load info about the structure of each stream\n",
    "with open('stream_spec_ol.yaml', 'r') as f:\n",
    "    stream_spec = yaml.safe_load(f)"
   ]
  },
  {
   "cell_type": "code",
   "execution_count": 8,
   "metadata": {},
   "outputs": [
    {
     "name": "stdout",
     "output_type": "stream",
     "text": [
      "Processing targetData stream\n"
     ]
    },
    {
     "data": {
      "application/vnd.jupyter.widget-view+json": {
       "model_id": "020b45dc902a4f2a9481eb4f2ca86078",
       "version_major": 2,
       "version_minor": 0
      },
      "text/plain": [
       "0it [00:00, ?it/s]"
      ]
     },
     "metadata": {},
     "output_type": "display_data"
    },
    {
     "name": "stdout",
     "output_type": "stream",
     "text": [
      "Processing cursorData stream\n"
     ]
    },
    {
     "data": {
      "application/vnd.jupyter.widget-view+json": {
       "model_id": "ee7bb41b56da43d9916d098670086d9c",
       "version_major": 2,
       "version_minor": 0
      },
      "text/plain": [
       "0it [00:00, ?it/s]"
      ]
     },
     "metadata": {},
     "output_type": "display_data"
    },
    {
     "name": "stdout",
     "output_type": "stream",
     "text": [
      "Processing mouse_vel stream\n"
     ]
    },
    {
     "data": {
      "application/vnd.jupyter.widget-view+json": {
       "model_id": "e95b6e9f4f0d4da29a05fa24148df141",
       "version_major": 2,
       "version_minor": 0
      },
      "text/plain": [
       "0it [00:00, ?it/s]"
      ]
     },
     "metadata": {},
     "output_type": "display_data"
    },
    {
     "name": "stdout",
     "output_type": "stream",
     "text": [
      "Processing binned_spikes stream\n"
     ]
    },
    {
     "data": {
      "application/vnd.jupyter.widget-view+json": {
       "model_id": "69963184066f453ab30ec123436c2e96",
       "version_major": 2,
       "version_minor": 0
      },
      "text/plain": [
       "0it [00:00, ?it/s]"
      ]
     },
     "metadata": {},
     "output_type": "display_data"
    },
    {
     "name": "stdout",
     "output_type": "stream",
     "text": [
      "Processing control stream\n"
     ]
    },
    {
     "data": {
      "application/vnd.jupyter.widget-view+json": {
       "model_id": "4e7a9a937a674a7cb8125bc0760f55c8",
       "version_major": 2,
       "version_minor": 0
      },
      "text/plain": [
       "0it [00:00, ?it/s]"
      ]
     },
     "metadata": {},
     "output_type": "display_data"
    }
   ],
   "source": [
    "# Load and parse stream data\n",
    "streams = [\n",
    "    b'targetData', b'cursorData', b'mouse_vel', b'binned_spikes',\n",
    "    b'control'\n",
    "]\n",
    "decoded_streams = {}\n",
    "for stream in streams:\n",
    "    print(f'Processing {stream.decode()} stream')\n",
    "    stream_data = graph_data[stream]\n",
    "    out = [None] * len(stream_data)\n",
    "    spec = stream_spec[stream.decode()]\n",
    "    for i, (entry_id, entry_data) in tqdm(enumerate(stream_data)):\n",
    "        entry_dec = {}\n",
    "        for key, val in entry_data.items():\n",
    "            if key.decode() in spec:\n",
    "                dtype = spec[key.decode()]\n",
    "                if dtype == 'str':\n",
    "                    entry_dec[key.decode()] = val.decode()\n",
    "                elif dtype == 'sync':\n",
    "                    entry_dec[key.decode()] = json.loads(val)['count']\n",
    "                elif dtype == 'timeval':\n",
    "                    entry_dec[key.decode()] = timevals_to_timestamps(val)\n",
    "                elif dtype == 'timespec':\n",
    "                    entry_dec[key.decode()] = timespecs_to_timestamps(val)\n",
    "                else:\n",
    "                    dat = np.frombuffer(val, dtype=dtype)\n",
    "                    entry_dec[key.decode()] = dat[0] if dat.size == 1 else dat\n",
    "        out[i] = entry_dec\n",
    "    decoded_streams[stream.decode()] = out"
   ]
  },
  {
   "cell_type": "code",
   "execution_count": 9,
   "metadata": {},
   "outputs": [
    {
     "data": {
      "text/html": [
       "<div>\n",
       "<style scoped>\n",
       "    .dataframe tbody tr th:only-of-type {\n",
       "        vertical-align: middle;\n",
       "    }\n",
       "\n",
       "    .dataframe tbody tr th {\n",
       "        vertical-align: top;\n",
       "    }\n",
       "\n",
       "    .dataframe thead th {\n",
       "        text-align: right;\n",
       "    }\n",
       "</style>\n",
       "<table border=\"1\" class=\"dataframe\">\n",
       "  <thead>\n",
       "    <tr style=\"text-align: right;\">\n",
       "      <th></th>\n",
       "      <th>X_cd</th>\n",
       "      <th>Y_cd</th>\n",
       "      <th>radius_cd</th>\n",
       "      <th>state_cd</th>\n",
       "      <th>sync_cd</th>\n",
       "      <th>ts_cd</th>\n",
       "      <th>X_td</th>\n",
       "      <th>Y_td</th>\n",
       "      <th>state_td</th>\n",
       "      <th>sync_td</th>\n",
       "      <th>ts_td</th>\n",
       "      <th>angle_td</th>\n",
       "      <th>samples_bs</th>\n",
       "      <th>ts_bs</th>\n",
       "      <th>sync_bs</th>\n",
       "      <th>samples_ac</th>\n",
       "      <th>sync_ac</th>\n",
       "      <th>ts_ac</th>\n",
       "    </tr>\n",
       "    <tr>\n",
       "      <th>sync</th>\n",
       "      <th></th>\n",
       "      <th></th>\n",
       "      <th></th>\n",
       "      <th></th>\n",
       "      <th></th>\n",
       "      <th></th>\n",
       "      <th></th>\n",
       "      <th></th>\n",
       "      <th></th>\n",
       "      <th></th>\n",
       "      <th></th>\n",
       "      <th></th>\n",
       "      <th></th>\n",
       "      <th></th>\n",
       "      <th></th>\n",
       "      <th></th>\n",
       "      <th></th>\n",
       "      <th></th>\n",
       "    </tr>\n",
       "  </thead>\n",
       "  <tbody>\n",
       "    <tr>\n",
       "      <th>4</th>\n",
       "      <td>0.0</td>\n",
       "      <td>0.0</td>\n",
       "      <td>25.0</td>\n",
       "      <td>1</td>\n",
       "      <td>4</td>\n",
       "      <td>8679231628016</td>\n",
       "      <td>0.0</td>\n",
       "      <td>0.0</td>\n",
       "      <td>0</td>\n",
       "      <td>4</td>\n",
       "      <td>8679231648748</td>\n",
       "      <td>0.0</td>\n",
       "      <td>[0, 0, 0, 0, 0, 1, 0, 0, 0, 0, 0, 0, 0, 0, 0, ...</td>\n",
       "      <td>8679230695850</td>\n",
       "      <td>4</td>\n",
       "      <td>[0.0, 0.0]</td>\n",
       "      <td>4</td>\n",
       "      <td>8679231197235</td>\n",
       "    </tr>\n",
       "    <tr>\n",
       "      <th>5</th>\n",
       "      <td>0.0</td>\n",
       "      <td>0.0</td>\n",
       "      <td>25.0</td>\n",
       "      <td>1</td>\n",
       "      <td>5</td>\n",
       "      <td>8679232788415</td>\n",
       "      <td>0.0</td>\n",
       "      <td>0.0</td>\n",
       "      <td>0</td>\n",
       "      <td>5</td>\n",
       "      <td>8679232803314</td>\n",
       "      <td>0.0</td>\n",
       "      <td>[0, 0, 0, 0, 0, 0, 0, 0, 0, 0, 0, 0, 0, 0, 0, ...</td>\n",
       "      <td>8679231640595</td>\n",
       "      <td>5</td>\n",
       "      <td>[0.0, 0.0]</td>\n",
       "      <td>5</td>\n",
       "      <td>8679232484548</td>\n",
       "    </tr>\n",
       "    <tr>\n",
       "      <th>6</th>\n",
       "      <td>0.0</td>\n",
       "      <td>0.0</td>\n",
       "      <td>25.0</td>\n",
       "      <td>1</td>\n",
       "      <td>6</td>\n",
       "      <td>8679233475479</td>\n",
       "      <td>0.0</td>\n",
       "      <td>0.0</td>\n",
       "      <td>0</td>\n",
       "      <td>6</td>\n",
       "      <td>8679233486812</td>\n",
       "      <td>0.0</td>\n",
       "      <td>[0, 0, 0, 0, 0, 0, 0, 0, 0, 0, 0, 0, 0, 0, 0, ...</td>\n",
       "      <td>8679232643413</td>\n",
       "      <td>6</td>\n",
       "      <td>[0.0, 0.0]</td>\n",
       "      <td>6</td>\n",
       "      <td>8679233228411</td>\n",
       "    </tr>\n",
       "    <tr>\n",
       "      <th>7</th>\n",
       "      <td>0.0</td>\n",
       "      <td>0.0</td>\n",
       "      <td>25.0</td>\n",
       "      <td>1</td>\n",
       "      <td>7</td>\n",
       "      <td>8679234369155</td>\n",
       "      <td>0.0</td>\n",
       "      <td>0.0</td>\n",
       "      <td>0</td>\n",
       "      <td>7</td>\n",
       "      <td>8679234378703</td>\n",
       "      <td>0.0</td>\n",
       "      <td>[0, 0, 0, 0, 0, 0, 0, 0, 0, 0, 0, 0, 0, 0, 0, ...</td>\n",
       "      <td>8679233537982</td>\n",
       "      <td>7</td>\n",
       "      <td>[0.0, 0.0]</td>\n",
       "      <td>7</td>\n",
       "      <td>8679234151536</td>\n",
       "    </tr>\n",
       "    <tr>\n",
       "      <th>8</th>\n",
       "      <td>0.0</td>\n",
       "      <td>0.0</td>\n",
       "      <td>25.0</td>\n",
       "      <td>1</td>\n",
       "      <td>8</td>\n",
       "      <td>8679235304370</td>\n",
       "      <td>0.0</td>\n",
       "      <td>0.0</td>\n",
       "      <td>0</td>\n",
       "      <td>8</td>\n",
       "      <td>8679235313196</td>\n",
       "      <td>0.0</td>\n",
       "      <td>[0, 0, 0, 0, 1, 0, 0, 0, 0, 0, 0, 0, 0, 0, 0, ...</td>\n",
       "      <td>8679234488127</td>\n",
       "      <td>8</td>\n",
       "      <td>[0.0, 0.0]</td>\n",
       "      <td>8</td>\n",
       "      <td>8679235086382</td>\n",
       "    </tr>\n",
       "  </tbody>\n",
       "</table>\n",
       "</div>"
      ],
      "text/plain": [
       "      X_cd  Y_cd  radius_cd  state_cd  sync_cd          ts_cd  X_td  Y_td  \\\n",
       "sync                                                                        \n",
       "4      0.0   0.0       25.0         1        4  8679231628016   0.0   0.0   \n",
       "5      0.0   0.0       25.0         1        5  8679232788415   0.0   0.0   \n",
       "6      0.0   0.0       25.0         1        6  8679233475479   0.0   0.0   \n",
       "7      0.0   0.0       25.0         1        7  8679234369155   0.0   0.0   \n",
       "8      0.0   0.0       25.0         1        8  8679235304370   0.0   0.0   \n",
       "\n",
       "      state_td  sync_td          ts_td  angle_td  \\\n",
       "sync                                               \n",
       "4            0        4  8679231648748       0.0   \n",
       "5            0        5  8679232803314       0.0   \n",
       "6            0        6  8679233486812       0.0   \n",
       "7            0        7  8679234378703       0.0   \n",
       "8            0        8  8679235313196       0.0   \n",
       "\n",
       "                                             samples_bs          ts_bs  \\\n",
       "sync                                                                     \n",
       "4     [0, 0, 0, 0, 0, 1, 0, 0, 0, 0, 0, 0, 0, 0, 0, ...  8679230695850   \n",
       "5     [0, 0, 0, 0, 0, 0, 0, 0, 0, 0, 0, 0, 0, 0, 0, ...  8679231640595   \n",
       "6     [0, 0, 0, 0, 0, 0, 0, 0, 0, 0, 0, 0, 0, 0, 0, ...  8679232643413   \n",
       "7     [0, 0, 0, 0, 0, 0, 0, 0, 0, 0, 0, 0, 0, 0, 0, ...  8679233537982   \n",
       "8     [0, 0, 0, 0, 1, 0, 0, 0, 0, 0, 0, 0, 0, 0, 0, ...  8679234488127   \n",
       "\n",
       "      sync_bs  samples_ac  sync_ac          ts_ac  \n",
       "sync                                               \n",
       "4           4  [0.0, 0.0]        4  8679231197235  \n",
       "5           5  [0.0, 0.0]        5  8679232484548  \n",
       "6           6  [0.0, 0.0]        6  8679233228411  \n",
       "7           7  [0.0, 0.0]        7  8679234151536  \n",
       "8           8  [0.0, 0.0]        8  8679235086382  "
      ]
     },
     "execution_count": 9,
     "metadata": {},
     "output_type": "execute_result"
    }
   ],
   "source": [
    "# Load data at the binned spikes sample rate\n",
    "# FSM\n",
    "cd_df = pd.DataFrame(decoded_streams['cursorData'])\n",
    "cd_df.set_index('sync', drop=False, inplace=True)\n",
    "cd_df.columns = [col + '_cd' for col in cd_df.columns]\n",
    "\n",
    "td_df = pd.DataFrame(decoded_streams['targetData'])\n",
    "td_df.set_index('sync', drop=False, inplace=True)\n",
    "td_df['angle'] = np.degrees(np.arctan2(td_df['Y'], td_df['X']))\n",
    "td_df.columns = [col + '_td' for col in td_df.columns]\n",
    "\n",
    "# binning\n",
    "bs_df = pd.DataFrame(decoded_streams['binned_spikes'])\n",
    "bs_df.set_index('sync', drop=False, inplace=True)\n",
    "bs_df.columns = [col + '_bs' for col in bs_df.columns]\n",
    "\n",
    "# autocue\n",
    "ac_df = pd.DataFrame(decoded_streams['control'])\n",
    "ac_df.set_index('sync', drop=False, inplace=True)\n",
    "ac_df.columns = [col + '_ac' for col in ac_df.columns]\n",
    "\n",
    "# join the dataframes\n",
    "bin_df = cd_df.join(td_df).join(bs_df).join(ac_df)\n",
    "\n",
    "bin_df.head()"
   ]
  },
  {
   "cell_type": "markdown",
   "metadata": {},
   "source": [
    "## 3. Train a decoder\n",
    "Now we will train a Wiener filter decoder to predict cursor velocity from the simulated data."
   ]
  },
  {
   "cell_type": "code",
   "execution_count": 10,
   "metadata": {},
   "outputs": [],
   "source": [
    "# Train a decoder\n",
    "SEQ_LEN = 15  # sequence length for the Wiener filter\n",
    "\n",
    "\n",
    "def get_lagged_features(data, n_history: int = 4):\n",
    "    \"\"\"\n",
    "    Lag the data along the time axis. Stack the lagged versions of the data\n",
    "    along the feature axis.\n",
    "\n",
    "    Parameters\n",
    "    ----------\n",
    "    data : array of shape (n_samples, n_features)\n",
    "        Data to be lagged\n",
    "    n_history : int, optional\n",
    "        Number of bins of history to include in the lagged data, by default 4\n",
    "\n",
    "    Returns\n",
    "    -------\n",
    "    lagged_features : array of shape (n_samples, n_history * n_features)\n",
    "        Lagged version of the original data\n",
    "    \"\"\"\n",
    "    assert n_history >= 0, 'n_history must be greater than or equal to 0'\n",
    "    seq_len = n_history + 1\n",
    "    lags = [None] * seq_len\n",
    "    for i in range(seq_len):\n",
    "        lags[i] = np.zeros_like(data)\n",
    "        lags[i][i:, :] = data[:-i, :] if i > 0 else data\n",
    "    lagged_features = np.hstack(lags)\n",
    "    return lagged_features\n",
    "\n",
    "\n",
    "neural_stream = 'binned_spikes'\n",
    "kin_stream = 'control'\n",
    "gain = 3\n",
    "\n",
    "neural_data = np.vstack(bin_df['samples_bs'])\n",
    "neural_data = get_lagged_features(neural_data, n_history=SEQ_LEN - 1)\n",
    "kin_data = np.vstack(bin_df['samples_ac'])[:, :2] * gain"
   ]
  },
  {
   "cell_type": "code",
   "execution_count": 11,
   "metadata": {},
   "outputs": [],
   "source": [
    "X_train, X_test, y_train, y_test = train_test_split(neural_data,\n",
    "                                                    kin_data,\n",
    "                                                    test_size=0.25,\n",
    "                                                    shuffle=False)\n",
    "# Fit the Ridge regression model\n",
    "# Use k-fold cross-validation to select the weight of the L2 penalty\n",
    "scorer = make_scorer(r2_score)\n",
    "mdl = RidgeCV(alphas=np.logspace(2, 5, 4), cv=3, scoring=scorer)\n",
    "mdl.fit(X_train, y_train)\n",
    "y_test_pred = mdl.predict(X_test)"
   ]
  },
  {
   "cell_type": "code",
   "execution_count": 12,
   "metadata": {},
   "outputs": [
    {
     "data": {
      "text/plain": [
       "1000.0"
      ]
     },
     "execution_count": 12,
     "metadata": {},
     "output_type": "execute_result"
    }
   ],
   "source": [
    "mdl.alpha_"
   ]
  },
  {
   "cell_type": "code",
   "execution_count": 13,
   "metadata": {},
   "outputs": [
    {
     "data": {
      "text/plain": [
       "-5.666305543453176"
      ]
     },
     "execution_count": 13,
     "metadata": {},
     "output_type": "execute_result"
    }
   ],
   "source": [
    "r2_score(y_test, y_test_pred)"
   ]
  },
  {
   "cell_type": "markdown",
   "metadata": {},
   "source": [
    "This decoder will now be saved to disk, and we will update the closed-loop cursor control graph to use the updated decoder path."
   ]
  },
  {
   "cell_type": "code",
   "execution_count": 14,
   "metadata": {},
   "outputs": [],
   "source": [
    "# Save the trained model\n",
    "file_desc = data_file.split('_')[0]\n",
    "\n",
    "model_dir = 'models'\n",
    "os.makedirs(model_dir, exist_ok=True)\n",
    "model_path = os.path.join(model_dir, f'{file_desc}_wf_seq_len_{SEQ_LEN}.pkl')\n",
    "\n",
    "with open(model_path, 'wb') as f:\n",
    "    pickle.dump(mdl, f)"
   ]
  },
  {
   "cell_type": "code",
   "execution_count": 15,
   "metadata": {},
   "outputs": [],
   "source": [
    "# Update the config of the closed-loop graph to load the saved model\n",
    "for cl_graph_path in ['sim_graph_cl.yaml', 'sim_graph_cl_mm.yaml']:\n",
    "    with open(os.path.join(test_dir, 'graphs', cl_graph_path), 'rb') as f:\n",
    "        cl_graph = yaml.safe_load(f)\n",
    "\n",
    "    node_names = [node['name'] for node in cl_graph['nodes']]\n",
    "    wf_idx = node_names.index('wiener_filter')\n",
    "\n",
    "    cl_graph['nodes'][wf_idx]['parameters']['model_path'] = os.path.abspath(\n",
    "        model_path)\n",
    "    cl_graph['nodes'][wf_idx]['parameters']['seq_len'] = SEQ_LEN\n",
    "\n",
    "    # Save the edited config\n",
    "    cl_graph_gen_path = list(os.path.splitext(cl_graph_path))\n",
    "    cl_graph_gen_path.insert(-1, '_gen')\n",
    "    cl_graph_gen_path = ''.join(cl_graph_gen_path)\n",
    "\n",
    "    with open(os.path.join(test_dir, 'graphs', cl_graph_gen_path), 'w') as f:\n",
    "        yaml.dump(cl_graph, f)"
   ]
  },
  {
   "cell_type": "code",
   "execution_count": 16,
   "metadata": {},
   "outputs": [
    {
     "data": {
      "image/png": "[encoded data removed]",
      "text/plain": [
       "<Figure size 600x400 with 2 Axes>"
      ]
     },
     "metadata": {},
     "output_type": "display_data"
    }
   ],
   "source": [
    "N = 10000\n",
    "fig, axes = plt.subplots(nrows=2, ncols=1, figsize=(6, 4))\n",
    "kin_pred = mdl.predict(neural_data)\n",
    "axes[0].plot(kin_data[-N:, 0])\n",
    "axes[0].plot(kin_pred[-N:, 0])\n",
    "axes[1].plot(kin_data[-N:, 1])\n",
    "axes[1].plot(kin_pred[-N:, 1])\n",
    "plt.show()"
   ]
  },
  {
   "cell_type": "code",
   "execution_count": 18,
   "metadata": {},
   "outputs": [
    {
     "name": "stdout",
     "output_type": "stream",
     "text": [
      "Variable                  Type              Data/Info\n",
      "-----------------------------------------------------\n",
      "DURATION                  NoneType          None\n",
      "GRAPH                     str               sim_graph_ol.yaml\n",
      "REDIS_IP                  str               127.0.0.1\n",
      "REDIS_PORT                int               6379\n",
      "RidgeCV                   ABCMeta           <class 'sklearn.linear_model._ridge.RidgeCV'>\n",
      "SEQ_LEN                   int               15\n",
      "X_test                    ndarray           80792x2880: 232680960 elems, type `int8`, 232680960 bytes (221.90185546875 Mb)\n",
      "X_train                   ndarray           242374x2880: 698037120 elems, type `int8`, 698037120 bytes (665.7000732421875 Mb)\n",
      "ac_df                     DataFrame                                 s<...>[323166 rows x 3 columns]\n",
      "all_data                  dict              n=23\n",
      "bin_df                    DataFrame                      X_cd       Y<...>323166 rows x 18 columns]\n",
      "bs_df                     DataFrame                                  <...>[323168 rows x 3 columns]\n",
      "butter                    function          <function butter at 0x7f4c60ccfb80>\n",
      "cd_df                     DataFrame                      X_cd       Y<...>[323166 rows x 6 columns]\n",
      "cl_graph                  dict              n=5\n",
      "cl_graph_gen_path         str               sim_graph_cl_mm_gen.yaml\n",
      "cl_graph_path             str               sim_graph_cl_mm.yaml\n",
      "curs                      int               0\n",
      "dat                       ndarray           1: 1 elems, type `uint64`, 8 bytes\n",
      "data_dir                  str               /home/ben/Projects/brand-tutorial/notebooks/data\n",
      "data_file                 str               /home/ben/Projects/brand-<...>927T1547_sim_graph_ol.pkl\n",
      "date_str                  str               230927T1547\n",
      "datetime                  type              <class 'datetime.datetime'>\n",
      "decoded_streams           dict              n=5\n",
      "dtype                     str               uint64\n",
      "entry_data                dict              n=4\n",
      "entry_dec                 dict              n=3\n",
      "entry_id                  bytes             b'1695844009403-0'\n",
      "f                         TextIOWrapper     <_io.TextIOWrapper name='<...>ode='w' encoding='UTF-8'>\n",
      "fig_dir                   str               /home/ben/Projects/brand-<...>utorial/notebooks/figures\n",
      "file_desc                 str               /home/ben/Projects/brand-<...>otebooks/data/230927T1547\n",
      "gain                      int               3\n",
      "get_lagged_features       function          <function get_lagged_features at 0x7f4b816a1550>\n",
      "graph                     dict              n=6\n",
      "graph_data                dict              n=23\n",
      "graph_name                str               sim_graph_ol\n",
      "graphs                    list              n=1\n",
      "i                         int               323165\n",
      "json                      module            <module 'json' from '/hom<...>hon3.8/json/__init__.py'>\n",
      "key                       bytes             b'i'\n",
      "kin_data                  ndarray           323166x2: 646332 elems, type `float32`, 2585328 bytes (2.4655609130859375 Mb)\n",
      "kin_stream                str               control\n",
      "ma_idx                    int               6\n",
      "make_scorer               function          <function make_scorer at 0x7f4c5f383040>\n",
      "mdl                       RidgeCV           RidgeCV(alphas=array([   <...>ng=make_scorer(r2_score))\n",
      "model_dir                 str               models\n",
      "model_path                str               /home/ben/Projects/brand-<...>27T1547_wf_seq_len_15.pkl\n",
      "mouse_device              str               /dev/input/by-id/usb-PixA<...>Optical_Mouse-event-mouse\n",
      "neural_data               ndarray           323166x2880: 930718080 elems, type `int8`, 930718080 bytes (887.6019287109375 Mb)\n",
      "neural_stream             str               binned_spikes\n",
      "new_streams               list              n=21\n",
      "node_names                list              n=7\n",
      "np                        module            <module 'numpy' from '/ho<...>kages/numpy/__init__.py'>\n",
      "os                        module            <module 'os' from '/home/<...>/rt/lib/python3.8/os.py'>\n",
      "out                       list              n=323166\n",
      "pd                        module            <module 'pandas' from '/h<...>ages/pandas/__init__.py'>\n",
      "pickle                    module            <module 'pickle' from '/h<...>lib/python3.8/pickle.py'>\n",
      "plt                       module            <module 'matplotlib.pyplo<...>es/matplotlib/pyplot.py'>\n",
      "r                         Redis             Redis<ConnectionPool<Conn<...>7.0.0.1,port=6379,db=0>>>\n",
      "r2_score                  function          <function r2_score at 0x7f4c5f3c3ee0>\n",
      "redis                     module            <module 'redis' from '/ho<...>kages/redis/__init__.py'>\n",
      "replies                   list              n=1\n",
      "save_path                 str               /home/ben/Projects/brand-<...>927T1547_sim_graph_ol.pkl\n",
      "scorer                    _PredictScorer    make_scorer(r2_score)\n",
      "sosfiltfilt               function          <function sosfiltfilt at 0x7f4c609e2d30>\n",
      "spec                      dict              n=3\n",
      "start_id                  dict              n=23\n",
      "start_streams             list              n=2\n",
      "stop_streams              list              n=23\n",
      "stream                    bytes             b'control'\n",
      "stream_data               list              n=323166\n",
      "stream_spec               dict              n=10\n",
      "streams                   list              n=5\n",
      "td_df                     DataFrame                 X_td  Y_td  state<...>[323166 rows x 6 columns]\n",
      "test_dir                  str               /home/ben/Projects/brand-tutorial/notebooks\n",
      "time                      module            <module 'time' (built-in)>\n",
      "timespecs_to_timestamps   function          <function timespecs_to_ti<...>stamps at 0x7f4c62062ee0>\n",
      "timevals_to_timestamps    function          <function timevals_to_tim<...>stamps at 0x7f4c62062e50>\n",
      "tqdm                      type              <class 'tqdm.auto.tqdm'>\n",
      "train_test_split          function          <function train_test_split at 0x7f4c5f5851f0>\n",
      "val                       bytes             b']\\xee\\x04\\x00\\x00\\x00\\x00\\x00'\n",
      "wf_idx                    int               2\n",
      "y_test                    ndarray           80792x2: 161584 elems, type `float32`, 646336 bytes (631.1875 kb)\n",
      "y_test_pred               ndarray           80792x2: 161584 elems, type `float64`, 1292672 bytes (1.2327880859375 Mb)\n",
      "y_train                   ndarray           242374x2: 484748 elems, type `float32`, 1938992 bytes (1.8491668701171875 Mb)\n",
      "yaml                      module            <module 'yaml' from '/hom<...>ckages/yaml/__init__.py'>\n"
     ]
    }
   ],
   "source": [
    "%whos"
   ]
  },
  {
   "cell_type": "code",
   "execution_count": null,
   "metadata": {},
   "outputs": [],
   "source": []
  },
  {
   "cell_type": "code",
   "execution_count": null,
   "metadata": {},
   "outputs": [],
   "source": []
  },
  {
   "cell_type": "code",
   "execution_count": null,
   "metadata": {},
   "outputs": [],
   "source": []
  }
 ],
 "metadata": {
  "kernelspec": {
   "display_name": "Python 3 (ipykernel)",
   "language": "python",
   "name": "python3"
  },
  "language_info": {
   "codemirror_mode": {
    "name": "ipython",
    "version": 3
   },
   "file_extension": ".py",
   "mimetype": "text/x-python",
   "name": "python",
   "nbconvert_exporter": "python",
   "pygments_lexer": "ipython3",
   "version": "3.8.2"
  },
  "vscode": {
   "interpreter": {
    "hash": "acea4441a5f698603dacd29996facca076bfacb138c4948e4d0cd69fcc42afa0"
   }
  }
 },
 "nbformat": 4,
 "nbformat_minor": 2
}
